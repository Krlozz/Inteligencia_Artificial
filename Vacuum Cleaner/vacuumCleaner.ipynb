{
 "cells": [
  {
   "cell_type": "code",
   "execution_count": 14,
   "id": "6b23ae20",
   "metadata": {},
   "outputs": [],
   "source": [
    "def mundo_vacuum_clear():\n",
    "\n",
    "    estado_objetivo = {'A': '0', 'B': '0'}\n",
    "    costo = 0\n",
    "\n",
    "    location_input = input(\"Ingrese la ubicación A ó B correspondientes a los dos cuartos: \") \n",
    "    status_input = input(\"Ingrese el estado 0 ó 1, donde 0 significa limpio y 1 significa sucio para \" + location_input + \":\") \n",
    "    status_input_complement = input(\"Estado del otro cuarto: \")\n",
    "    print(\"Condicion inicial: \" + str(estado_objetivo))\n",
    "\n",
    "    if location_input == 'A':\n",
    "        # A esta limpia.\n",
    "        print(\"Aspiradora está en A\")\n",
    "        if status_input == '1':\n",
    "            print(\"A está limpia\")\n",
    "            estado_objetivo['A'] = '0'\n",
    "            costo += 1                      \n",
    "            print(\"Costo de limpiar A \" + str(costo))\n",
    "            print(\"El cuarto A ha sido limpiado.\")\n",
    "\n",
    "            if status_input_complement == '1':\n",
    "                print(\"El cuarto B esta limpio\")\n",
    "                print(\"Se movió la aspiradora hacia B. \")\n",
    "                costo += 1                       \n",
    "                print(\"Costo por mover a la derecha\" + str(costo))\n",
    "                estado_objetivo['B'] = '0'\n",
    "                costo += 1                      \n",
    "                print(\"Costo por aspirar\" + str(costo))\n",
    "                print(\"El cuarto B se ha limpiado \")\n",
    "            else:\n",
    "                print(\"No se hace nada (Costo): \" + str(costo))\n",
    "                print(\"El cuarto B ya está limpio\")\n",
    "\n",
    "        if status_input == '0':\n",
    "            print(\"El cuarto A ya está limpio\")\n",
    "            if status_input_complement == '1':\n",
    "                print(\"El cuarto B esta limpio\")\n",
    "                print(\"Se mueve  hacia B \")\n",
    "                costo += 1                      \n",
    "                print(\"Costo del movimiento: \" + str(costo))\n",
    "                estado_objetivo['B'] = '0'\n",
    "                costo += 1                       \n",
    "                print(\"Costo de aspirar\" + str(costo))\n",
    "                print(\"El caurto B ha sido limpiado \")\n",
    "            else:\n",
    "                print(\"No hace nada (Costo): \" + str(costo))\n",
    "                print(costo)\n",
    "                print(\"B ya está limpio\")\n",
    "\n",
    "    else:\n",
    "        print(\"Aspiradora está en B\")\n",
    "        if status_input == '1':\n",
    "            print(\"Cuarto B estpa limpio\")\n",
    "            estado_objetivo['B'] = '0'\n",
    "            costo += 1  \n",
    "            print(\"Costo por limpiar: \" + str(costo))\n",
    "            print(\"El cuarto B ha sido limpiado. \")\n",
    "\n",
    "            if status_input_complement == '1':\n",
    "                print(\"A está limpio\")\n",
    "                print(\"Moviendo a la izquierda A \")\n",
    "                costo += 1  \n",
    "                print(\"COST de mover a la izquierda: \" + str(costo))\n",
    "                estado_objetivo['A'] = '0'\n",
    "                costo += 1  \n",
    "                print(\"Costo de aspirar: \" + str(costo))\n",
    "                print(\"El cuarto A ha sido limpiado\")\n",
    "\n",
    "        else:\n",
    "            print(costo)\n",
    "            print(\"El cuarto B ya está limpio\")\n",
    "\n",
    "            if status_input_complement == '1':  \n",
    "                print(\"A esta limpio\")\n",
    "                print(\"Moviendo a la izquierda hacia A\")\n",
    "                costo += 1  \n",
    "                print(\"Costo por mover hacia A: \" + str(costo))\n",
    "                estado_objetivo['A'] = '0'\n",
    "                costo += 1  \n",
    "                print(\"Costo por aspirar: \" + str(costo))\n",
    "                print(\"A ha sido limpiada \")\n",
    "            else:\n",
    "                print(\"No hace nada (Costo): \" + str(costo))\n",
    "                print(\"El cuarto A ya está limpio\")\n",
    "\n",
    "    print(\"Estado final objetivo: \")\n",
    "    print(estado_objetivo)\n",
    "    print(\"Costo final: \" + str(costo))"
   ]
  },
  {
   "cell_type": "code",
   "execution_count": 15,
   "id": "d4fc6189",
   "metadata": {},
   "outputs": [
    {
     "name": "stdout",
     "output_type": "stream",
     "text": [
      "Ingrese la ubicación A ó B correspondientes a los dos cuartos: A\n",
      "Ingrese el estado 0 ó 1, donde 0 significa limpio y 1 significa sucio para A:1\n",
      "Estado del otro cuarto: 1\n",
      "Condicion inicial: {'A': '0', 'B': '0'}\n",
      "Aspiradora está en A\n",
      "A está limpia\n",
      "Costo de limpiar A 1\n",
      "El cuarto A ha sido limpiado.\n",
      "El cuarto B esta limpio\n",
      "Se movió la aspiradora hacia B. \n",
      "Costo por mover a la derecha2\n",
      "Costo por aspirar3\n",
      "El cuarto B se ha limpiado \n",
      "Estado final objetivo: \n",
      "{'A': '0', 'B': '0'}\n",
      "Costo final: 3\n"
     ]
    }
   ],
   "source": [
    "mundo_vacuum_clear()"
   ]
  },
  {
   "cell_type": "code",
   "execution_count": 16,
   "id": "351a73cb",
   "metadata": {},
   "outputs": [
    {
     "name": "stdout",
     "output_type": "stream",
     "text": [
      "Ingrese la ubicación A ó B correspondientes a los dos cuartos: A\n",
      "Ingrese el estado 0 ó 1, donde 0 significa limpio y 1 significa sucio para A:0\n",
      "Estado del otro cuarto: 1\n",
      "Condicion inicial: {'A': '0', 'B': '0'}\n",
      "Aspiradora está en A\n",
      "El cuarto A ya está limpio\n",
      "El cuarto B esta limpio\n",
      "Se mueve  hacia B \n",
      "Costo del movimiento: 1\n",
      "Costo de aspirar2\n",
      "El caurto B ha sido limpiado \n",
      "Estado final objetivo: \n",
      "{'A': '0', 'B': '0'}\n",
      "Costo final: 2\n"
     ]
    }
   ],
   "source": [
    "mundo_vacuum_clear()"
   ]
  },
  {
   "cell_type": "code",
   "execution_count": 17,
   "id": "b48ad576",
   "metadata": {},
   "outputs": [
    {
     "name": "stdout",
     "output_type": "stream",
     "text": [
      "Ingrese la ubicación A ó B correspondientes a los dos cuartos: B\n",
      "Ingrese el estado 0 ó 1, donde 0 significa limpio y 1 significa sucio para B:0\n",
      "Estado del otro cuarto: 1\n",
      "Condicion inicial: {'A': '0', 'B': '0'}\n",
      "Aspiradora está en B\n",
      "0\n",
      "El cuarto B ya está limpio\n",
      "A esta limpio\n",
      "Moviendo a la izquierda hacia A\n",
      "Costo por mover hacia A: 1\n",
      "Costo por aspirar: 2\n",
      "A ha sido limpiada \n",
      "Estado final objetivo: \n",
      "{'A': '0', 'B': '0'}\n",
      "Costo final: 2\n"
     ]
    }
   ],
   "source": [
    "mundo_vacuum_clear()"
   ]
  },
  {
   "cell_type": "code",
   "execution_count": null,
   "id": "2f3eb146",
   "metadata": {},
   "outputs": [],
   "source": []
  }
 ],
 "metadata": {
  "kernelspec": {
   "display_name": "Python 3 (ipykernel)",
   "language": "python",
   "name": "python3"
  },
  "language_info": {
   "codemirror_mode": {
    "name": "ipython",
    "version": 3
   },
   "file_extension": ".py",
   "mimetype": "text/x-python",
   "name": "python",
   "nbconvert_exporter": "python",
   "pygments_lexer": "ipython3",
   "version": "3.9.7"
  }
 },
 "nbformat": 4,
 "nbformat_minor": 5
}
